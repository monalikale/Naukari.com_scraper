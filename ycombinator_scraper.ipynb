{
 "cells": [
  {
   "cell_type": "code",
   "execution_count": 1,
   "id": "8af4616c",
   "metadata": {},
   "outputs": [
    {
     "name": "stdout",
     "output_type": "stream",
     "text": [
      "https://ciechanow.ski/airfoil/\n",
      "https://aeon.co/essays/the-strange-and-turbulent-global-world-of-ant-geopolitics\n",
      "https://the-engi-nerd.github.io/posts/welcome/\n",
      "https://www.atlasobscura.com/articles/swiss-map-secrets\n",
      "https://docs.emailengine.app/how-i-turned-my-open-source-project-into/\n",
      "https://github.com/ankane/blazer\n",
      "https://github.com/piercefreeman/mountaineer\n"
     ]
    }
   ],
   "source": [
    "import requests\n",
    "from bs4 import BeautifulSoup as bs\n",
    "import pandas as pd\n",
    "\n",
    "# To Scrape Links \n",
    "url=\"https://news.ycombinator.com/\"\n",
    "r=requests.get(url)\n",
    "soup=bs(r.content,\"html.parser\")\n",
    "page_urls=[]\n",
    "link_path=soup.findAll(\"span\",{\"class\":\"titleline\"})\n",
    "for link in link_path:\n",
    "    a_path=link.find(\"a\")\n",
    "    path=a_path.get(\"href\")\n",
    "    page_urls.append(path)\n",
    "df=pd.DataFrame(page_urls)\n",
    "df.to_csv(\"Blog_links.csv\")\n",
    "\n",
    "# To Scrape Blog Deatils of frist 7 urls\n",
    "blog_list=[]\n",
    "page_urls=page_urls[:7]\n",
    "for page_url in page_urls:\n",
    "    print(page_url)\n",
    "    r=requests.get(page_url)\n",
    "    soup=bs(r.content,\"html.parser\")\n",
    "    Blog_title=soup.find(\"h1\").string\n",
    "    \n",
    "    try:\n",
    "        Blog_img=soup.find(\"img\")\n",
    "        Blog_image=Blog_img.get(\"src\")\n",
    "    except:\n",
    "        Blog_image=\"\"\n",
    "    Blog_url=page_url\n",
    "    \n",
    "    \n",
    "    Blog_content=[]\n",
    "    data=soup.findAll(\"p\")\n",
    "    for i in data:\n",
    "        Blog_content.append(i.get_text())    \n",
    "    Blog_contents=\"\".join(Blog_content)\n",
    "    \n",
    "    blog_dict={\"Blog_title\":Blog_title,\n",
    "              \"Blog_image\":Blog_image,\n",
    "              \"Blog_url\":Blog_url,\n",
    "              \"Blog_content\":Blog_contents}\n",
    "    blog_list.append(blog_dict)\n",
    "\n",
    "blog_df=pd.DataFrame(blog_list)\n",
    "blog_df.to_csv(\"blog_details.csv\")"
   ]
  },
  {
   "cell_type": "code",
   "execution_count": null,
   "id": "9e41bed5",
   "metadata": {},
   "outputs": [],
   "source": []
  }
 ],
 "metadata": {
  "kernelspec": {
   "display_name": "Python 3 (ipykernel)",
   "language": "python",
   "name": "python3"
  },
  "language_info": {
   "codemirror_mode": {
    "name": "ipython",
    "version": 3
   },
   "file_extension": ".py",
   "mimetype": "text/x-python",
   "name": "python",
   "nbconvert_exporter": "python",
   "pygments_lexer": "ipython3",
   "version": "3.11.5"
  }
 },
 "nbformat": 4,
 "nbformat_minor": 5
}
